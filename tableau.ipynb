{
 "cells": [
  {
   "cell_type": "markdown",
   "id": "66ceecd6",
   "metadata": {},
   "source": [
    "## 1. Import Dependencies"
   ]
  },
  {
   "cell_type": "code",
   "execution_count": 4,
   "id": "3ec7d91f",
   "metadata": {},
   "outputs": [
    {
     "name": "stdout",
     "output_type": "stream",
     "text": [
      "Warning: Your Kaggle API key is readable by other users on this system! To fix this, you can run 'chmod 600 /Users/adparekh/.kaggle/kaggle.json'\n"
     ]
    }
   ],
   "source": [
    "import pandas as pd\n",
    "import zipfile\n",
    "import kaggle"
   ]
  },
  {
   "cell_type": "markdown",
   "id": "e67df64d",
   "metadata": {},
   "source": [
    "## 2. Import Dataset"
   ]
  },
  {
   "cell_type": "code",
   "execution_count": 6,
   "id": "de937ab1",
   "metadata": {
    "scrolled": true
   },
   "outputs": [
    {
     "name": "stdout",
     "output_type": "stream",
     "text": [
      "Warning: Your Kaggle API key is readable by other users on this system! To fix this, you can run 'chmod 600 /Users/adparekh/.kaggle/kaggle.json'\n",
      "Downloading london-bike-sharing-dataset.zip to /Users/adparekh/Data/Programming/DS:ML/data-visualization\n",
      "100%|█████████████████████████████████████████| 165k/165k [00:00<00:00, 236kB/s]\n",
      "100%|█████████████████████████████████████████| 165k/165k [00:00<00:00, 236kB/s]\n"
     ]
    }
   ],
   "source": [
    "!kaggle datasets download -d hmavrodiev/london-bike-sharing-dataset"
   ]
  },
  {
   "cell_type": "code",
   "execution_count": 41,
   "id": "b033e293",
   "metadata": {},
   "outputs": [],
   "source": [
    "# Extract the compressed dataset\n",
    "zipfile_name = \"london-bike-sharing-dataset.zip\"\n",
    "with zipfile.ZipFile(zipfile_name, 'r') as file:\n",
    "    file.extractall()"
   ]
  },
  {
   "cell_type": "code",
   "execution_count": 53,
   "id": "902caeba",
   "metadata": {},
   "outputs": [],
   "source": [
    "# Read in the dataset into a pandas dataframe\n",
    "data = pd.read_csv('london_merged.csv')"
   ]
  },
  {
   "cell_type": "code",
   "execution_count": 54,
   "id": "487594a7",
   "metadata": {},
   "outputs": [
    {
     "name": "stdout",
     "output_type": "stream",
     "text": [
      "<class 'pandas.core.frame.DataFrame'>\n",
      "RangeIndex: 17414 entries, 0 to 17413\n",
      "Data columns (total 10 columns):\n",
      " #   Column        Non-Null Count  Dtype  \n",
      "---  ------        --------------  -----  \n",
      " 0   timestamp     17414 non-null  object \n",
      " 1   cnt           17414 non-null  int64  \n",
      " 2   t1            17414 non-null  float64\n",
      " 3   t2            17414 non-null  float64\n",
      " 4   hum           17414 non-null  float64\n",
      " 5   wind_speed    17414 non-null  float64\n",
      " 6   weather_code  17414 non-null  float64\n",
      " 7   is_holiday    17414 non-null  float64\n",
      " 8   is_weekend    17414 non-null  float64\n",
      " 9   season        17414 non-null  float64\n",
      "dtypes: float64(8), int64(1), object(1)\n",
      "memory usage: 1.3+ MB\n",
      "Dataset Information:\n",
      " None \n",
      "\n",
      "Null values:\n",
      " timestamp       0\n",
      "cnt             0\n",
      "t1              0\n",
      "t2              0\n",
      "hum             0\n",
      "wind_speed      0\n",
      "weather_code    0\n",
      "is_holiday      0\n",
      "is_weekend      0\n",
      "season          0\n",
      "dtype: int64 \n",
      "\n",
      "Shape:\n",
      " (17414, 10)\n"
     ]
    }
   ],
   "source": [
    "# Print the data information\n",
    "print(\"Dataset Information:\\n\", data.info(), \"\\n\")\n",
    "# Check for any NA values\n",
    "print(\"Null values:\\n\", data.isna().sum(), \"\\n\")\n",
    "# Print the shape of the dataset\n",
    "print(\"Shape:\\n\",data.shape)"
   ]
  },
  {
   "cell_type": "code",
   "execution_count": 55,
   "id": "7a272968",
   "metadata": {},
   "outputs": [
    {
     "data": {
      "text/plain": [
       "1.0     6150\n",
       "2.0     4034\n",
       "3.0     3551\n",
       "7.0     2141\n",
       "4.0     1464\n",
       "26.0      60\n",
       "10.0      14\n",
       "Name: weather_code, dtype: int64"
      ]
     },
     "execution_count": 55,
     "metadata": {},
     "output_type": "execute_result"
    }
   ],
   "source": [
    "# Counting the unique values in column 'weather_code'\n",
    "data['weather_code'].value_counts()"
   ]
  },
  {
   "cell_type": "code",
   "execution_count": 56,
   "id": "b44a01fe",
   "metadata": {},
   "outputs": [
    {
     "data": {
      "text/plain": [
       "0.0    4394\n",
       "1.0    4387\n",
       "3.0    4330\n",
       "2.0    4303\n",
       "Name: season, dtype: int64"
      ]
     },
     "execution_count": 56,
     "metadata": {},
     "output_type": "execute_result"
    }
   ],
   "source": [
    "# ounting the unique values in column 'season'\n",
    "data['season'].value_counts()"
   ]
  },
  {
   "cell_type": "code",
   "execution_count": 57,
   "id": "a276f876",
   "metadata": {},
   "outputs": [],
   "source": [
    "# Specifying the new column names that I want to use\n",
    "new_cols = {\n",
    "    'timestamp':'time',\n",
    "    'cnt':'bike_count',\n",
    "    't1':'temp_C',\n",
    "    't2':'feels_like_temp_C',\n",
    "    'hum':'humidity_percent',\n",
    "    'wind_speed':'wind_speed_kph',\n",
    "    'weather_code':'weather_type',\n",
    "    'is_holiday':'is_holiday',\n",
    "    'is_weekend':'is_weekend',\n",
    "    'season':'season'\n",
    "}\n",
    "\n",
    "# Renaming the columns to the new column names\n",
    "data.rename(new_cols, axis=1, inplace=True)"
   ]
  },
  {
   "cell_type": "code",
   "execution_count": 58,
   "id": "57635eb0",
   "metadata": {},
   "outputs": [],
   "source": [
    "# Changing humidity values to percentage (between 0 and 1)\n",
    "data.humidity_percent = data.humidity_percent / 100"
   ]
  },
  {
   "cell_type": "code",
   "execution_count": 59,
   "id": "bfdf4a93",
   "metadata": {},
   "outputs": [],
   "source": [
    "# Creating a season dictionary to change numerical descriptions to season names\n",
    "season_dict = {\n",
    "    '0.0':'Spring',\n",
    "    '1.0':'Summer',\n",
    "    '2.0':'Fall',\n",
    "    '3.0':'Winter'\n",
    "}\n",
    "\n",
    "# Creating a weather code dictionary to change numerical descriptions to word descriptions\n",
    "weather_code_dict = {\n",
    "    '1.0':'Clear',\n",
    "    '2.0':'Scattered Clouds',\n",
    "    '3.0':'Broken Clouds',\n",
    "    '4.0':'Cloudy',\n",
    "    '7.0':'Rain',\n",
    "    '10.0':'Rain with thunderstorm',\n",
    "    '26.0':'Snowfall',\n",
    "    '94.0':'Freezing Fog'\n",
    "}\n",
    "\n",
    "# Changing the seasons column data type to string\n",
    "data.season = data.season.astype('str')\n",
    "# Replacing the numerical season values with seasons\n",
    "data.season = data.season.map(season_dict)\n",
    "\n",
    "# Changing the weather_type column data type to string\n",
    "data.weather_type = data.weather_type.astype('str')\n",
    "# Replacing the numerical weather_type values with decriptions\n",
    "data.weather_type = data.weather_type.map(weather_code_dict)"
   ]
  },
  {
   "cell_type": "code",
   "execution_count": 60,
   "id": "e980baa4",
   "metadata": {},
   "outputs": [
    {
     "data": {
      "text/html": [
       "<div>\n",
       "<style scoped>\n",
       "    .dataframe tbody tr th:only-of-type {\n",
       "        vertical-align: middle;\n",
       "    }\n",
       "\n",
       "    .dataframe tbody tr th {\n",
       "        vertical-align: top;\n",
       "    }\n",
       "\n",
       "    .dataframe thead th {\n",
       "        text-align: right;\n",
       "    }\n",
       "</style>\n",
       "<table border=\"1\" class=\"dataframe\">\n",
       "  <thead>\n",
       "    <tr style=\"text-align: right;\">\n",
       "      <th></th>\n",
       "      <th>time</th>\n",
       "      <th>bike_count</th>\n",
       "      <th>temp_C</th>\n",
       "      <th>feels_like_temp_C</th>\n",
       "      <th>humidity_percent</th>\n",
       "      <th>wind_speed_kph</th>\n",
       "      <th>weather_type</th>\n",
       "      <th>is_holiday</th>\n",
       "      <th>is_weekend</th>\n",
       "      <th>season</th>\n",
       "    </tr>\n",
       "  </thead>\n",
       "  <tbody>\n",
       "    <tr>\n",
       "      <th>0</th>\n",
       "      <td>2015-01-04 00:00:00</td>\n",
       "      <td>182</td>\n",
       "      <td>3.0</td>\n",
       "      <td>2.0</td>\n",
       "      <td>0.930</td>\n",
       "      <td>6.0</td>\n",
       "      <td>Broken Clouds</td>\n",
       "      <td>0.0</td>\n",
       "      <td>1.0</td>\n",
       "      <td>Winter</td>\n",
       "    </tr>\n",
       "    <tr>\n",
       "      <th>1</th>\n",
       "      <td>2015-01-04 01:00:00</td>\n",
       "      <td>138</td>\n",
       "      <td>3.0</td>\n",
       "      <td>2.5</td>\n",
       "      <td>0.930</td>\n",
       "      <td>5.0</td>\n",
       "      <td>Clear</td>\n",
       "      <td>0.0</td>\n",
       "      <td>1.0</td>\n",
       "      <td>Winter</td>\n",
       "    </tr>\n",
       "    <tr>\n",
       "      <th>2</th>\n",
       "      <td>2015-01-04 02:00:00</td>\n",
       "      <td>134</td>\n",
       "      <td>2.5</td>\n",
       "      <td>2.5</td>\n",
       "      <td>0.965</td>\n",
       "      <td>0.0</td>\n",
       "      <td>Clear</td>\n",
       "      <td>0.0</td>\n",
       "      <td>1.0</td>\n",
       "      <td>Winter</td>\n",
       "    </tr>\n",
       "    <tr>\n",
       "      <th>3</th>\n",
       "      <td>2015-01-04 03:00:00</td>\n",
       "      <td>72</td>\n",
       "      <td>2.0</td>\n",
       "      <td>2.0</td>\n",
       "      <td>1.000</td>\n",
       "      <td>0.0</td>\n",
       "      <td>Clear</td>\n",
       "      <td>0.0</td>\n",
       "      <td>1.0</td>\n",
       "      <td>Winter</td>\n",
       "    </tr>\n",
       "    <tr>\n",
       "      <th>4</th>\n",
       "      <td>2015-01-04 04:00:00</td>\n",
       "      <td>47</td>\n",
       "      <td>2.0</td>\n",
       "      <td>0.0</td>\n",
       "      <td>0.930</td>\n",
       "      <td>6.5</td>\n",
       "      <td>Clear</td>\n",
       "      <td>0.0</td>\n",
       "      <td>1.0</td>\n",
       "      <td>Winter</td>\n",
       "    </tr>\n",
       "  </tbody>\n",
       "</table>\n",
       "</div>"
      ],
      "text/plain": [
       "                  time  bike_count  temp_C  feels_like_temp_C  \\\n",
       "0  2015-01-04 00:00:00         182     3.0                2.0   \n",
       "1  2015-01-04 01:00:00         138     3.0                2.5   \n",
       "2  2015-01-04 02:00:00         134     2.5                2.5   \n",
       "3  2015-01-04 03:00:00          72     2.0                2.0   \n",
       "4  2015-01-04 04:00:00          47     2.0                0.0   \n",
       "\n",
       "   humidity_percent  wind_speed_kph   weather_type  is_holiday  is_weekend  \\\n",
       "0             0.930             6.0  Broken Clouds         0.0         1.0   \n",
       "1             0.930             5.0          Clear         0.0         1.0   \n",
       "2             0.965             0.0          Clear         0.0         1.0   \n",
       "3             1.000             0.0          Clear         0.0         1.0   \n",
       "4             0.930             6.5          Clear         0.0         1.0   \n",
       "\n",
       "   season  \n",
       "0  Winter  \n",
       "1  Winter  \n",
       "2  Winter  \n",
       "3  Winter  \n",
       "4  Winter  "
      ]
     },
     "execution_count": 60,
     "metadata": {},
     "output_type": "execute_result"
    }
   ],
   "source": [
    "# Check if the changes have been applied successfully\n",
    "data.head()"
   ]
  },
  {
   "cell_type": "code",
   "execution_count": 61,
   "id": "0ea6ab2e",
   "metadata": {},
   "outputs": [],
   "source": [
    "# Writing the files to an excel file to be used in Tableau\n",
    "data.to_excel('london_bikes_final.xlsx', sheet_name='Data')"
   ]
  }
 ],
 "metadata": {
  "kernelspec": {
   "display_name": "Python 3 (ipykernel)",
   "language": "python",
   "name": "python3"
  },
  "language_info": {
   "codemirror_mode": {
    "name": "ipython",
    "version": 3
   },
   "file_extension": ".py",
   "mimetype": "text/x-python",
   "name": "python",
   "nbconvert_exporter": "python",
   "pygments_lexer": "ipython3",
   "version": "3.9.7"
  }
 },
 "nbformat": 4,
 "nbformat_minor": 5
}
